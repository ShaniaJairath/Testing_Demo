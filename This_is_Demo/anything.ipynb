{
 "cells": [
  {
   "cell_type": "markdown",
   "id": "0d72ef11",
   "metadata": {},
   "source": [
    "# Issue 1 Ember Dataset 11/09/2025 8:55PM "
   ]
  },
  {
   "cell_type": "code",
   "execution_count": 4,
   "id": "46b226ee",
   "metadata": {},
   "outputs": [
    {
     "name": "stdout",
     "output_type": "stream",
     "text": [
      "def add_numbers(first_number: float, second_number: float) -> float: \n"
     ]
    }
   ],
   "source": [
    "def add_numbers(first_number: float, second_number: float) -> float:\n",
    "    \"\"\"Return the sum of two numbers without printing anything.\"\"\"\n",
    "    return first_number + second_number\n",
    "print(\"def add_numbers(first_number: float, second_number: float) -> float: \")\n"
   ]
  },
  {
   "cell_type": "markdown",
   "id": "0dabce40",
   "metadata": {},
   "source": [
    "# Malware Dataset Ember Issue for Analyis for Count"
   ]
  },
  {
   "cell_type": "code",
   "execution_count": null,
   "id": "91ba2351",
   "metadata": {},
   "outputs": [],
   "source": []
  }
 ],
 "metadata": {
  "kernelspec": {
   "display_name": "mainenv",
   "language": "python",
   "name": "python3"
  },
  "language_info": {
   "codemirror_mode": {
    "name": "ipython",
    "version": 3
   },
   "file_extension": ".py",
   "mimetype": "text/x-python",
   "name": "python",
   "nbconvert_exporter": "python",
   "pygments_lexer": "ipython3",
   "version": "3.11.13"
  }
 },
 "nbformat": 4,
 "nbformat_minor": 5
}
